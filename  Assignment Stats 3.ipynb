{
 "cells": [
  {
   "cell_type": "code",
   "execution_count": 2,
   "id": "78ee4430",
   "metadata": {},
   "outputs": [],
   "source": [
    "import numpy as np"
   ]
  },
  {
   "cell_type": "markdown",
   "id": "3617fd3e",
   "metadata": {},
   "source": [
    "# Problem Statement 1:\n",
    "Blood glucose levels for obese patients have a mean of 100 with a standard deviation of\n",
    "15. A researcher thinks that a diet high in raw cornstarch will have a positive effect on\n",
    "blood glucose levels. A sample of 36 patients who have tried the raw cornstarch diet\n",
    "have a mean glucose level of 108. Test the hypothesis that the raw cornstarch had an\n",
    "effect or not."
   ]
  },
  {
   "cell_type": "code",
   "execution_count": 3,
   "id": "c726ebf3",
   "metadata": {},
   "outputs": [
    {
     "name": "stdout",
     "output_type": "stream",
     "text": [
      "The z score is 3.2\n",
      "By looking this value in z table, we get a value of 0.9993\n",
      "Which implies the probability of having value less than 108 is 99.93% and more than or equals to 108 is 0.007\n",
      "It is less than 0.05 soo we will reject the Null Hypothesis, i.e. there is raw cornstarch effect\n"
     ]
    }
   ],
   "source": [
    "Sample_count = 36\n",
    "Sample_mean = 108\n",
    "Population_mean = 100\n",
    "Population_sigma = 15\n",
    "# Null Hypothesis is H0:mean=100\n",
    "#Alternative Hypothesis is H1:!= 100\n",
    "# there is no information provided about the significant level and confidence interval, \n",
    "#so lets assume it to be 0.05 or 95%.\n",
    "#z_score \n",
    "z=(Sample_mean-Population_mean)/(Population_sigma/np.sqrt(Sample_count))\n",
    "print(\"The z score is\",z)\n",
    "print(\"By looking this value in z table, we get a value of 0.9993\")\n",
    "print(\"Which implies the probability of having value less than 108 is 99.93% and more than or equals to 108 is 0.007\")\n",
    "print(\"It is less than 0.05 soo we will reject the Null Hypothesis, i.e. there is raw cornstarch effect\")"
   ]
  },
  {
   "cell_type": "markdown",
   "id": "cfdb9142",
   "metadata": {},
   "source": [
    "# Problem Statement 2:\n",
    "In one state, 52% of the voters are Republicans, and 48% are Democrats. In a second\n",
    "state, 47% of the voters are Republicans, and 53% are Democrats. Suppose a simple\n",
    "random sample of 100 voters are surveyed from each state.\n",
    "\n",
    "\n",
    "What is the probability that the survey will show a greater percentage of Republican\n",
    "voters in the second state than in the first state?"
   ]
  },
  {
   "cell_type": "code",
   "execution_count": 4,
   "id": "35d32f64",
   "metadata": {},
   "outputs": [
    {
     "name": "stdout",
     "output_type": "stream",
     "text": [
      "('Mu=', 0.050000000000000044, 'Std=', 0.07061869440877536)\n",
      "Z-score(p1,p2)= -0.7080278164104213\n",
      "The probability that the survey will show a greater percentage of Republican Voters in the second state than in the first state is 0.24\n"
     ]
    }
   ],
   "source": [
    "N1= 100 #The number of voters sampled from th first state\n",
    "N2= 100 # The number of voters sampled from the second state\n",
    "p1=0.52\n",
    "Q1=0.48 # Q1=(1-p1), The proportion on non republican voters in first state\n",
    "p2= 0.47\n",
    "Q2= 0.53 #Q2=(1-p2), The proportion on non republican voters in second state\n",
    "\n",
    "# the mean of the fifference in sample proportion or the expected value(p1-p2)\n",
    "mu= p1-p2\n",
    "\n",
    "#Standard deviation of the difference(std)\n",
    "std=np.sqrt(((p1*Q1)/N1) + ((p2*Q2)/N2))\n",
    "print((\"Mu=\",mu,\"Std=\",std))\n",
    "# This problem rwquires us to find probability that p1 is less than p2\n",
    "# This is equivalent to finding the proability that p1-p2<0\n",
    "x=0\n",
    "# To find this probability, we need to transform the random variable (p1-P2) into a z-score\n",
    "#Z= Z-score(p1,p2)\n",
    "# That transformation appears below\n",
    "z=(x-mu)/std\n",
    "print(\"Z-score(p1,p2)=\",z)\n",
    "\n",
    "#From z-table we find that the probability of a z-score being-0.7082 or lessis 0.24\n",
    "print(\"The probability that the survey will show a greater percentage of Republican Voters in the second state than in the first state is 0.24\")\n",
    "\n"
   ]
  },
  {
   "cell_type": "markdown",
   "id": "e77303cc",
   "metadata": {},
   "source": [
    "# Problem Statement 3:\n",
    "You take the SAT and score 1100. The mean score for the SAT is 1026 and the standard\n",
    "deviation is 209. How well did you score on the test compared to the average test taker?"
   ]
  },
  {
   "cell_type": "code",
   "execution_count": 5,
   "id": "dca92f2f",
   "metadata": {},
   "outputs": [
    {
     "name": "stdout",
     "output_type": "stream",
     "text": [
      "Z Score= 0.35406698564593303\n",
      "The above calculation shows that my score is 0.35 standard deviation above the mean\n"
     ]
    }
   ],
   "source": [
    "x= 1100\n",
    "#Population Mean\n",
    "mu=1026\n",
    "#Population standard deviation\n",
    "sd=209\n",
    "z=(x-mu)/sd\n",
    "print(\"Z Score=\",z)\n",
    "print(\"The above calculation shows that my score is 0.35 standard deviation above the mean\")"
   ]
  },
  {
   "cell_type": "code",
   "execution_count": null,
   "id": "b4e290ce",
   "metadata": {},
   "outputs": [],
   "source": []
  },
  {
   "cell_type": "code",
   "execution_count": null,
   "id": "37475de9",
   "metadata": {},
   "outputs": [],
   "source": []
  }
 ],
 "metadata": {
  "kernelspec": {
   "display_name": "Python 3 (ipykernel)",
   "language": "python",
   "name": "python3"
  },
  "language_info": {
   "codemirror_mode": {
    "name": "ipython",
    "version": 3
   },
   "file_extension": ".py",
   "mimetype": "text/x-python",
   "name": "python",
   "nbconvert_exporter": "python",
   "pygments_lexer": "ipython3",
   "version": "3.9.7"
  }
 },
 "nbformat": 4,
 "nbformat_minor": 5
}
